{
 "cells": [
  {
   "cell_type": "markdown",
   "id": "5ef9e419",
   "metadata": {},
   "source": [
    "В качестве алгоритма для определения различия между траекториями использовалась метрика Хаусдорфа.  "
   ]
  },
  {
   "cell_type": "code",
   "execution_count": 1,
   "id": "a414e93d",
   "metadata": {},
   "outputs": [],
   "source": [
    "from scipy.spatial.distance import directed_hausdorff\n",
    "import pandas as pd\n",
    "import numpy as np\n",
    "import matplotlib.pyplot as plt"
   ]
  },
  {
   "cell_type": "code",
   "execution_count": 2,
   "id": "990a9c48",
   "metadata": {
    "scrolled": true
   },
   "outputs": [
    {
     "data": {
      "text/html": [
       "<div>\n",
       "<style scoped>\n",
       "    .dataframe tbody tr th:only-of-type {\n",
       "        vertical-align: middle;\n",
       "    }\n",
       "\n",
       "    .dataframe tbody tr th {\n",
       "        vertical-align: top;\n",
       "    }\n",
       "\n",
       "    .dataframe thead th {\n",
       "        text-align: right;\n",
       "    }\n",
       "</style>\n",
       "<table border=\"1\" class=\"dataframe\">\n",
       "  <thead>\n",
       "    <tr style=\"text-align: right;\">\n",
       "      <th></th>\n",
       "      <th>track</th>\n",
       "      <th>time</th>\n",
       "      <th>x</th>\n",
       "      <th>y</th>\n",
       "    </tr>\n",
       "  </thead>\n",
       "  <tbody>\n",
       "    <tr>\n",
       "      <th>0</th>\n",
       "      <td>1</td>\n",
       "      <td>10:32:13</td>\n",
       "      <td>1598</td>\n",
       "      <td>526</td>\n",
       "    </tr>\n",
       "    <tr>\n",
       "      <th>1</th>\n",
       "      <td>1</td>\n",
       "      <td>10:32:14</td>\n",
       "      <td>1524</td>\n",
       "      <td>544</td>\n",
       "    </tr>\n",
       "    <tr>\n",
       "      <th>2</th>\n",
       "      <td>1</td>\n",
       "      <td>10:32:15</td>\n",
       "      <td>1441</td>\n",
       "      <td>557</td>\n",
       "    </tr>\n",
       "    <tr>\n",
       "      <th>3</th>\n",
       "      <td>1</td>\n",
       "      <td>10:32:16</td>\n",
       "      <td>1357</td>\n",
       "      <td>392</td>\n",
       "    </tr>\n",
       "    <tr>\n",
       "      <th>4</th>\n",
       "      <td>1</td>\n",
       "      <td>10:32:17</td>\n",
       "      <td>1395</td>\n",
       "      <td>573</td>\n",
       "    </tr>\n",
       "    <tr>\n",
       "      <th>...</th>\n",
       "      <td>...</td>\n",
       "      <td>...</td>\n",
       "      <td>...</td>\n",
       "      <td>...</td>\n",
       "    </tr>\n",
       "    <tr>\n",
       "      <th>109</th>\n",
       "      <td>4</td>\n",
       "      <td>10:42:09</td>\n",
       "      <td>432</td>\n",
       "      <td>689</td>\n",
       "    </tr>\n",
       "    <tr>\n",
       "      <th>110</th>\n",
       "      <td>4</td>\n",
       "      <td>10:42:10</td>\n",
       "      <td>450</td>\n",
       "      <td>736</td>\n",
       "    </tr>\n",
       "    <tr>\n",
       "      <th>111</th>\n",
       "      <td>4</td>\n",
       "      <td>10:42:11</td>\n",
       "      <td>503</td>\n",
       "      <td>754</td>\n",
       "    </tr>\n",
       "    <tr>\n",
       "      <th>112</th>\n",
       "      <td>4</td>\n",
       "      <td>10:42:12</td>\n",
       "      <td>1620</td>\n",
       "      <td>924</td>\n",
       "    </tr>\n",
       "    <tr>\n",
       "      <th>113</th>\n",
       "      <td>4</td>\n",
       "      <td>10:42:13</td>\n",
       "      <td>1620</td>\n",
       "      <td>1006</td>\n",
       "    </tr>\n",
       "  </tbody>\n",
       "</table>\n",
       "<p>114 rows × 4 columns</p>\n",
       "</div>"
      ],
      "text/plain": [
       "     track      time     x     y\n",
       "0        1  10:32:13  1598   526\n",
       "1        1  10:32:14  1524   544\n",
       "2        1  10:32:15  1441   557\n",
       "3        1  10:32:16  1357   392\n",
       "4        1  10:32:17  1395   573\n",
       "..     ...       ...   ...   ...\n",
       "109      4  10:42:09   432   689\n",
       "110      4  10:42:10   450   736\n",
       "111      4  10:42:11   503   754\n",
       "112      4  10:42:12  1620   924\n",
       "113      4  10:42:13  1620  1006\n",
       "\n",
       "[114 rows x 4 columns]"
      ]
     },
     "execution_count": 2,
     "metadata": {},
     "output_type": "execute_result"
    }
   ],
   "source": [
    "data = pd.read_csv(\"traks.csv\", sep=';')\n",
    "data"
   ]
  },
  {
   "cell_type": "markdown",
   "id": "9274c378",
   "metadata": {},
   "source": [
    "Делим исходный набор данных по четырем соответствующим траекториям. В новых датафреймах оставляем только столбцы с координатами \"X\" и \"Y\" и переписываем индексы так, чтобы они начинались с 0."
   ]
  },
  {
   "cell_type": "code",
   "execution_count": 3,
   "id": "73ea5991",
   "metadata": {},
   "outputs": [
    {
     "name": "stdout",
     "output_type": "stream",
     "text": [
      "35\n",
      "27\n",
      "33\n",
      "19\n"
     ]
    }
   ],
   "source": [
    "fi_t = data[data['track'] == 1]\n",
    "first_track = fi_t[[\"x\", \"y\"]]\n",
    "first_track.index = np.arange(len(first_track))\n",
    "\n",
    "sec_t = data[data['track'] == 2]\n",
    "second_track = sec_t[[\"x\", \"y\"]]\n",
    "second_track.index = np.arange(len(second_track))\n",
    "\n",
    "thi_t = data[data['track'] == 3]\n",
    "third_track = thi_t[[\"x\", \"y\"]]\n",
    "third_track.index = np.arange(len(third_track))\n",
    "\n",
    "fout = data[data['track'] == 4]\n",
    "fourth_track = fout[[\"x\", \"y\"]]\n",
    "fourth_track.index = np.arange(len(fourth_track))\n",
    "\n",
    "#вывод числа точек в каждой траектории\n",
    "print(first_track.shape[0])\n",
    "print(second_track.shape[0])\n",
    "print(third_track.shape[0])\n",
    "print(fourth_track.shape[0])"
   ]
  },
  {
   "cell_type": "markdown",
   "id": "2a13d617",
   "metadata": {},
   "source": []
  },
  {
   "cell_type": "markdown",
   "id": "7b0c6282",
   "metadata": {},
   "source": [
    "Видим, что количество точек в траекториях может значительно различаться. Метрика Хаусдорфа позволяет искать расстояния между кривыми с неравным количеством точек, но для более точного результата масштабируем датафреймы до примерно одинаковых размеров:\n",
    "\n",
    "Исходная траектория представляет собой ломанную кривую. Будем добавлять точки посередине отрезков этой ломаной до тех пор, пока число точек траектории не станет равным необходимому значению. Так как траектории 3 и 5 меньше всего различаются по количеству точек, то остальные траектории будем тоже приравнивать к ним. "
   ]
  },
  {
   "cell_type": "code",
   "execution_count": 4,
   "id": "6a2db0c7",
   "metadata": {},
   "outputs": [
    {
     "name": "stderr",
     "output_type": "stream",
     "text": [
      "C:\\Users\\poder\\AppData\\Local\\Temp/ipykernel_7820/2413569268.py:3: UserWarning: color is redundantly defined by the 'color' keyword argument and the fmt string \"o-r\" (-> color='r'). The keyword argument will take precedence.\n",
      "  plt.plot(second_track[\"x\"], second_track[\"y\"], \"o-r\", color = 'black')\n"
     ]
    },
    {
     "data": {
      "image/png": "[encoded data removed]",
      "text/plain": [
       "<Figure size 864x504 with 1 Axes>"
      ]
     },
     "metadata": {
      "needs_background": "light"
     },
     "output_type": "display_data"
    }
   ],
   "source": [
    "#отобразим, для примера, вторую траекторию до преобразований\n",
    "plt.figure(figsize = (12, 7))\n",
    "plt.plot(second_track[\"x\"], second_track[\"y\"], \"o-r\", color = 'black')\n",
    "plt.show()"
   ]
  },
  {
   "cell_type": "code",
   "execution_count": 5,
   "id": "ec4a4856",
   "metadata": {},
   "outputs": [],
   "source": [
    "def insert_row(df, idx, ax, ay):  \n",
    "    top = df.iloc[:idx]\n",
    "    bot = df.iloc[idx:]\n",
    "    top = top.append({'x': ax, 'y': ay}, ignore_index=True)\n",
    "    inserted = pd.concat([top, bot], ignore_index=True)\n",
    "    return inserted"
   ]
  },
  {
   "cell_type": "code",
   "execution_count": 6,
   "id": "d2b86f54",
   "metadata": {},
   "outputs": [],
   "source": [
    "def zoom_df(df, size):\n",
    "    i = 1\n",
    "    while df.shape[0] < size:\n",
    "        ax = (df.loc[i - 1]['x'] + df.loc[i]['x'])/2\n",
    "        ay = (df.loc[i - 1]['y'] + df.loc[i]['y'])/2\n",
    "        df = insert_row(df, i, ax, ay)\n",
    "        i += 2\n",
    "    return df\n",
    "\n",
    "second_track = zoom_df(second_track, third_track.shape[0])\n",
    "fourth_track = zoom_df(fourth_track, third_track.shape[0])"
   ]
  },
  {
   "cell_type": "code",
   "execution_count": 7,
   "id": "9297a338",
   "metadata": {},
   "outputs": [
    {
     "data": {
      "text/plain": [
       "33"
      ]
     },
     "execution_count": 7,
     "metadata": {},
     "output_type": "execute_result"
    }
   ],
   "source": [
    "#покажем, что число точек во второй траектории увеличилось\n",
    "second_track.shape[0]"
   ]
  },
  {
   "cell_type": "code",
   "execution_count": 8,
   "id": "77b023fa",
   "metadata": {},
   "outputs": [
    {
     "name": "stderr",
     "output_type": "stream",
     "text": [
      "C:\\Users\\poder\\AppData\\Local\\Temp/ipykernel_7820/2923004730.py:3: UserWarning: color is redundantly defined by the 'color' keyword argument and the fmt string \"o-r\" (-> color='r'). The keyword argument will take precedence.\n",
      "  plt.plot(second_track[\"x\"], second_track[\"y\"], \"o-r\", color = 'black')\n"
     ]
    },
    {
     "data": {
      "image/png": "[encoded data removed]",
      "text/plain": [
       "<Figure size 864x504 with 1 Axes>"
      ]
     },
     "metadata": {
      "needs_background": "light"
     },
     "output_type": "display_data"
    }
   ],
   "source": [
    "#отобразим вторую траекторию после добавления промежуточных точек\n",
    "plt.figure(figsize = (12, 7))\n",
    "plt.plot(second_track[\"x\"], second_track[\"y\"], \"o-r\", color = 'black')\n",
    "plt.show()"
   ]
  },
  {
   "cell_type": "markdown",
   "id": "97b30bff",
   "metadata": {},
   "source": [
    "Вычислим значение метрики Хаусдорфа для сравнения третьей и первой траектории:"
   ]
  },
  {
   "cell_type": "code",
   "execution_count": 9,
   "id": "2788c960",
   "metadata": {},
   "outputs": [
    {
     "data": {
      "text/plain": [
       "60.728905802755904"
      ]
     },
     "execution_count": 9,
     "metadata": {},
     "output_type": "execute_result"
    }
   ],
   "source": [
    "directed_hausdorff(third_track, first_track)[0]"
   ]
  },
  {
   "cell_type": "markdown",
   "id": "4982a597",
   "metadata": {},
   "source": [
    "Для сравнения второй и первой траектории:"
   ]
  },
  {
   "cell_type": "code",
   "execution_count": 10,
   "id": "7694702c",
   "metadata": {},
   "outputs": [
    {
     "data": {
      "text/plain": [
       "73.02739212103907"
      ]
     },
     "execution_count": 10,
     "metadata": {},
     "output_type": "execute_result"
    }
   ],
   "source": [
    "directed_hausdorff(second_track, first_track)[0]"
   ]
  },
  {
   "cell_type": "markdown",
   "id": "0088ec79",
   "metadata": {},
   "source": [
    "Для сравнения четвертой траектории со всеми другими:"
   ]
  },
  {
   "cell_type": "code",
   "execution_count": 11,
   "id": "ad28f24c",
   "metadata": {},
   "outputs": [
    {
     "data": {
      "text/plain": [
       "156.46405337968207"
      ]
     },
     "execution_count": 11,
     "metadata": {},
     "output_type": "execute_result"
    }
   ],
   "source": [
    "directed_hausdorff(fourth_track, first_track)[0]"
   ]
  },
  {
   "cell_type": "code",
   "execution_count": 12,
   "id": "c87caaef",
   "metadata": {},
   "outputs": [
    {
     "data": {
      "text/plain": [
       "180.05554698481245"
      ]
     },
     "execution_count": 12,
     "metadata": {},
     "output_type": "execute_result"
    }
   ],
   "source": [
    "directed_hausdorff(fourth_track, second_track)[0]"
   ]
  },
  {
   "cell_type": "code",
   "execution_count": 13,
   "id": "7e59e14f",
   "metadata": {},
   "outputs": [
    {
     "data": {
      "text/plain": [
       "177.49647883831386"
      ]
     },
     "execution_count": 13,
     "metadata": {},
     "output_type": "execute_result"
    }
   ],
   "source": [
    "directed_hausdorff(fourth_track, third_track)[0]"
   ]
  },
  {
   "cell_type": "markdown",
   "id": "5c2bae64",
   "metadata": {},
   "source": [
    "Чем больше значение метрики, тем больше отличаются между собой траектории. Как видно из полученных результатов, третья траектория отличается от первой чуть меньше, чем вторая. Четвертая же траектория значительно отличается от каждой другой. "
   ]
  }
 ],
 "metadata": {
  "kernelspec": {
   "display_name": "Python 3 (ipykernel)",
   "language": "python",
   "name": "python3"
  },
  "language_info": {
   "codemirror_mode": {
    "name": "ipython",
    "version": 3
   },
   "file_extension": ".py",
   "mimetype": "text/x-python",
   "name": "python",
   "nbconvert_exporter": "python",
   "pygments_lexer": "ipython3",
   "version": "3.9.7"
  }
 },
 "nbformat": 4,
 "nbformat_minor": 5
}
